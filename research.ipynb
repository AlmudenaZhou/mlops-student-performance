{
 "cells": [
  {
   "cell_type": "markdown",
   "metadata": {},
   "source": [
    "The objective of this model is to be able to predict the GradeClass."
   ]
  },
  {
   "cell_type": "code",
   "execution_count": 35,
   "metadata": {},
   "outputs": [],
   "source": [
    "import pandas as pd\n",
    "from sklearn.model_selection import train_test_split\n",
    "import mlflow\n",
    "import pickle"
   ]
  },
  {
   "cell_type": "code",
   "execution_count": 36,
   "metadata": {},
   "outputs": [
    {
     "data": {
      "text/html": [
       "<div>\n",
       "<style scoped>\n",
       "    .dataframe tbody tr th:only-of-type {\n",
       "        vertical-align: middle;\n",
       "    }\n",
       "\n",
       "    .dataframe tbody tr th {\n",
       "        vertical-align: top;\n",
       "    }\n",
       "\n",
       "    .dataframe thead th {\n",
       "        text-align: right;\n",
       "    }\n",
       "</style>\n",
       "<table border=\"1\" class=\"dataframe\">\n",
       "  <thead>\n",
       "    <tr style=\"text-align: right;\">\n",
       "      <th></th>\n",
       "      <th>StudentID</th>\n",
       "      <th>Age</th>\n",
       "      <th>Gender</th>\n",
       "      <th>Ethnicity</th>\n",
       "      <th>ParentalEducation</th>\n",
       "      <th>StudyTimeWeekly</th>\n",
       "      <th>Absences</th>\n",
       "      <th>Tutoring</th>\n",
       "      <th>ParentalSupport</th>\n",
       "      <th>Extracurricular</th>\n",
       "      <th>Sports</th>\n",
       "      <th>Music</th>\n",
       "      <th>Volunteering</th>\n",
       "      <th>GPA</th>\n",
       "      <th>GradeClass</th>\n",
       "    </tr>\n",
       "  </thead>\n",
       "  <tbody>\n",
       "    <tr>\n",
       "      <th>0</th>\n",
       "      <td>1001</td>\n",
       "      <td>17</td>\n",
       "      <td>1</td>\n",
       "      <td>0</td>\n",
       "      <td>2</td>\n",
       "      <td>19.833723</td>\n",
       "      <td>7</td>\n",
       "      <td>1</td>\n",
       "      <td>2</td>\n",
       "      <td>0</td>\n",
       "      <td>0</td>\n",
       "      <td>1</td>\n",
       "      <td>0</td>\n",
       "      <td>2.929196</td>\n",
       "      <td>2.0</td>\n",
       "    </tr>\n",
       "    <tr>\n",
       "      <th>1</th>\n",
       "      <td>1002</td>\n",
       "      <td>18</td>\n",
       "      <td>0</td>\n",
       "      <td>0</td>\n",
       "      <td>1</td>\n",
       "      <td>15.408756</td>\n",
       "      <td>0</td>\n",
       "      <td>0</td>\n",
       "      <td>1</td>\n",
       "      <td>0</td>\n",
       "      <td>0</td>\n",
       "      <td>0</td>\n",
       "      <td>0</td>\n",
       "      <td>3.042915</td>\n",
       "      <td>1.0</td>\n",
       "    </tr>\n",
       "    <tr>\n",
       "      <th>2</th>\n",
       "      <td>1003</td>\n",
       "      <td>15</td>\n",
       "      <td>0</td>\n",
       "      <td>2</td>\n",
       "      <td>3</td>\n",
       "      <td>4.210570</td>\n",
       "      <td>26</td>\n",
       "      <td>0</td>\n",
       "      <td>2</td>\n",
       "      <td>0</td>\n",
       "      <td>0</td>\n",
       "      <td>0</td>\n",
       "      <td>0</td>\n",
       "      <td>0.112602</td>\n",
       "      <td>4.0</td>\n",
       "    </tr>\n",
       "    <tr>\n",
       "      <th>3</th>\n",
       "      <td>1004</td>\n",
       "      <td>17</td>\n",
       "      <td>1</td>\n",
       "      <td>0</td>\n",
       "      <td>3</td>\n",
       "      <td>10.028829</td>\n",
       "      <td>14</td>\n",
       "      <td>0</td>\n",
       "      <td>3</td>\n",
       "      <td>1</td>\n",
       "      <td>0</td>\n",
       "      <td>0</td>\n",
       "      <td>0</td>\n",
       "      <td>2.054218</td>\n",
       "      <td>3.0</td>\n",
       "    </tr>\n",
       "    <tr>\n",
       "      <th>4</th>\n",
       "      <td>1005</td>\n",
       "      <td>17</td>\n",
       "      <td>1</td>\n",
       "      <td>0</td>\n",
       "      <td>2</td>\n",
       "      <td>4.672495</td>\n",
       "      <td>17</td>\n",
       "      <td>1</td>\n",
       "      <td>3</td>\n",
       "      <td>0</td>\n",
       "      <td>0</td>\n",
       "      <td>0</td>\n",
       "      <td>0</td>\n",
       "      <td>1.288061</td>\n",
       "      <td>4.0</td>\n",
       "    </tr>\n",
       "  </tbody>\n",
       "</table>\n",
       "</div>"
      ],
      "text/plain": [
       "   StudentID  Age  Gender  Ethnicity  ParentalEducation  StudyTimeWeekly  \\\n",
       "0       1001   17       1          0                  2        19.833723   \n",
       "1       1002   18       0          0                  1        15.408756   \n",
       "2       1003   15       0          2                  3         4.210570   \n",
       "3       1004   17       1          0                  3        10.028829   \n",
       "4       1005   17       1          0                  2         4.672495   \n",
       "\n",
       "   Absences  Tutoring  ParentalSupport  Extracurricular  Sports  Music  \\\n",
       "0         7         1                2                0       0      1   \n",
       "1         0         0                1                0       0      0   \n",
       "2        26         0                2                0       0      0   \n",
       "3        14         0                3                1       0      0   \n",
       "4        17         1                3                0       0      0   \n",
       "\n",
       "   Volunteering       GPA  GradeClass  \n",
       "0             0  2.929196         2.0  \n",
       "1             0  3.042915         1.0  \n",
       "2             0  0.112602         4.0  \n",
       "3             0  2.054218         3.0  \n",
       "4             0  1.288061         4.0  "
      ]
     },
     "execution_count": 36,
     "metadata": {},
     "output_type": "execute_result"
    }
   ],
   "source": [
    "data = pd.read_csv('data/Student_performance_data.csv')\n",
    "data.head()"
   ]
  },
  {
   "cell_type": "markdown",
   "metadata": {},
   "source": [
    "# Exploratory Data Analysis\n"
   ]
  },
  {
   "cell_type": "markdown",
   "metadata": {},
   "source": [
    "First of all, I will split the data in 3: training, validation and test."
   ]
  },
  {
   "cell_type": "code",
   "execution_count": 37,
   "metadata": {},
   "outputs": [],
   "source": [
    "X = data.drop(['GPA', 'GradeClass'], axis=1)\n",
    "y = data[['GradeClass']]"
   ]
  },
  {
   "cell_type": "code",
   "execution_count": 38,
   "metadata": {},
   "outputs": [],
   "source": [
    "X_train, X_val_test, y_train, y_val_test = train_test_split(\n",
    "    X, y, test_size=0.3, random_state=42, stratify=y)"
   ]
  },
  {
   "cell_type": "code",
   "execution_count": 39,
   "metadata": {},
   "outputs": [],
   "source": [
    "X_val, X_test, y_val, y_test = train_test_split(\n",
    "    X_val_test, y_val_test, test_size=0.5, random_state=42, stratify=y_val_test)"
   ]
  },
  {
   "cell_type": "markdown",
   "metadata": {},
   "source": [
    "Notes about the columns:\n",
    "\n",
    "- The StudentID will be removed to avoid biases in the grade calculation.\n",
    "- Age, Gender and Ethnicity will be dropped to avoid bias, but this must be consider in the posterior evaluation and to comply with the Responsible AI.\n",
    "\n",
    "- StudyTimeWeekly and Absences need to be scaled. I will check if they are normally distributed.\n"
   ]
  },
  {
   "cell_type": "markdown",
   "metadata": {},
   "source": [
    "Extra considerations:\n",
    "\n",
    "- For the preprocessing, I will expect a dictionary with all the columns presented in the original dataframe, even though several of them will be dropped.\n",
    "- Non missing values are expected.\n"
   ]
  },
  {
   "cell_type": "markdown",
   "metadata": {},
   "source": [
    "## Preprocessing"
   ]
  },
  {
   "cell_type": "markdown",
   "metadata": {},
   "source": [
    "Conclusions for the features :\n",
    "\n",
    "- ParentalEducation and ParentalSupport are ordinal categorical variables and will be transformed with a MinMaxScaler.\n",
    "- Since StudyTimeWeekly and Absences are more similar to uniform distribution than to a normal one, I will use the MinMaxScaler for both of them."
   ]
  },
  {
   "cell_type": "markdown",
   "metadata": {},
   "source": [
    "I will convert GradeClass through OneHotEncoding"
   ]
  },
  {
   "cell_type": "code",
   "execution_count": 40,
   "metadata": {},
   "outputs": [
    {
     "data": {
      "text/plain": [
       "Index(['StudentID', 'Age', 'Gender', 'Ethnicity', 'ParentalEducation',\n",
       "       'StudyTimeWeekly', 'Absences', 'Tutoring', 'ParentalSupport',\n",
       "       'Extracurricular', 'Sports', 'Music', 'Volunteering', 'GPA',\n",
       "       'GradeClass'],\n",
       "      dtype='object')"
      ]
     },
     "execution_count": 40,
     "metadata": {},
     "output_type": "execute_result"
    }
   ],
   "source": [
    "data.columns"
   ]
  },
  {
   "cell_type": "code",
   "execution_count": 41,
   "metadata": {},
   "outputs": [
    {
     "data": {
      "text/plain": [
       "<Experiment: artifact_location='s3://mlflow-artifact-student-performance/1', creation_time=1720824921745, experiment_id='1', last_update_time=1720824921745, lifecycle_stage='active', name='student-performance', tags={}>"
      ]
     },
     "execution_count": 41,
     "metadata": {},
     "output_type": "execute_result"
    }
   ],
   "source": [
    "experiment_name = 'student-performance'\n",
    "mlflow.set_tracking_uri('http://127.0.0.1:5000')\n",
    "mlflow.set_experiment(experiment_name)"
   ]
  },
  {
   "cell_type": "code",
   "execution_count": 42,
   "metadata": {},
   "outputs": [],
   "source": [
    "experiment_id = [experiment.experiment_id for experiment in mlflow.search_experiments() \n",
    "                 if experiment.name == 'student-performance']"
   ]
  },
  {
   "cell_type": "code",
   "execution_count": 43,
   "metadata": {},
   "outputs": [
    {
     "name": "stderr",
     "output_type": "stream",
     "text": [
      "C:\\Users\\Almudena\\AppData\\Local\\Temp\\ipykernel_25864\\1457338884.py:9: FutureWarning: Setting an item of incompatible dtype is deprecated and will raise in a future error of pandas. Value '[0.75 0.   0.5  ... 0.25 0.5  0.5 ]' has dtype incompatible with int64, please explicitly cast to a compatible dtype first.\n",
      "  X_train.loc[:, minmax_cols] = x_sc_train\n",
      "C:\\Users\\Almudena\\AppData\\Local\\Temp\\ipykernel_25864\\1457338884.py:9: FutureWarning: Setting an item of incompatible dtype is deprecated and will raise in a future error of pandas. Value '[0.96551724 0.20689655 0.96551724 ... 0.44827586 0.27586207 0.65517241]' has dtype incompatible with int64, please explicitly cast to a compatible dtype first.\n",
      "  X_train.loc[:, minmax_cols] = x_sc_train\n",
      "C:\\Users\\Almudena\\AppData\\Local\\Temp\\ipykernel_25864\\1457338884.py:9: FutureWarning: Setting an item of incompatible dtype is deprecated and will raise in a future error of pandas. Value '[0.75 1.   0.75 ... 1.   0.25 0.25]' has dtype incompatible with int64, please explicitly cast to a compatible dtype first.\n",
      "  X_train.loc[:, minmax_cols] = x_sc_train\n",
      "C:\\Users\\Almudena\\AppData\\Local\\Temp\\ipykernel_25864\\1457338884.py:12: FutureWarning: Setting an item of incompatible dtype is deprecated and will raise in a future error of pandas. Value '[0.25 0.   0.5  0.75 0.   0.5  0.25 0.5  0.5  0.   0.5  0.25 0.5  0.5\n",
      " 0.5  0.5  1.   0.25 0.5  0.25 0.75 0.   0.5  0.5  0.5  0.5  0.5  0.5\n",
      " 0.5  0.   0.25 0.5  0.5  0.75 0.5  0.25 0.5  0.25 0.5  0.5  0.75 0.\n",
      " 0.25 1.   0.5  0.25 0.   0.25 0.5  0.5  0.25 0.   1.   0.75 0.25 0.25\n",
      " 0.   0.25 0.   0.25 0.25 0.5  0.5  0.5  0.5  0.75 0.25 0.   0.25 0.5\n",
      " 0.5  0.5  0.   0.5  0.75 0.5  0.25 0.25 0.5  0.75 0.5  0.5  0.5  0.25\n",
      " 0.5  0.25 0.75 0.25 0.5  0.   0.5  1.   0.75 0.75 0.5  0.25 0.5  0.25\n",
      " 0.75 0.5  0.25 0.5  0.25 0.5  0.25 0.25 0.75 0.5  0.5  0.5  0.25 0.25\n",
      " 0.   0.5  0.5  0.   0.5  0.25 0.75 0.25 0.5  0.25 0.25 0.25 0.75 0.5\n",
      " 1.   0.5  0.   0.5  1.   0.5  0.5  0.25 0.5  0.   0.5  0.5  0.5  0.5\n",
      " 0.5  0.5  1.   0.75 0.5  0.75 0.75 0.75 0.25 0.5  0.   1.   0.5  0.25\n",
      " 0.75 0.5  0.75 0.75 0.25 0.5  1.   0.25 0.5  1.   0.5  0.5  0.25 1.\n",
      " 1.   0.5  0.25 0.5  0.75 0.5  0.5  0.75 0.25 0.   0.5  0.5  0.25 0.75\n",
      " 0.25 0.5  0.75 0.5  0.25 0.75 0.75 0.25 0.5  0.25 0.75 0.5  0.75 0.25\n",
      " 0.   0.5  0.25 0.   0.75 0.5  0.25 0.25 0.   0.5  0.75 0.5  0.5  0.\n",
      " 0.25 0.5  0.5  0.   0.75 1.   0.5  0.25 0.5  0.5  0.75 1.   0.5  0.25\n",
      " 0.   0.25 0.25 0.   0.25 0.   0.25 0.25 0.5  0.5  0.5  0.25 0.5  1.\n",
      " 0.25 1.   0.5  0.75 0.   1.   0.5  0.5  0.75 1.   0.   0.5  0.25 0.\n",
      " 0.75 0.25 1.   0.5  0.5  0.5  0.75 1.   0.25 0.5  0.5  1.   0.75 0.5\n",
      " 0.   0.25 0.5  0.25 0.5  0.25 0.75 0.5  0.25 0.5  0.   0.25 0.5  0.5\n",
      " 0.25 0.   0.5  0.75 0.25 0.   0.25 0.75 1.   1.   1.   0.5  0.25 0.5\n",
      " 0.25 0.25 0.75 0.5  0.5  0.25 0.5  0.   0.5  0.25 0.5  0.25 0.5  1.\n",
      " 0.5  0.25 0.75 0.5  0.25 0.5  0.25 0.5  0.5  0.75 0.75 0.5  0.5  0.5\n",
      " 0.25 0.5  0.5  0.75 0.5  0.25 0.   0.25 0.5  0.5  0.5  0.25 0.5  1.\n",
      " 0.5  0.75 0.5  0.75 0.25 0.25 1.   0.25 0.   0.5  0.   1.   0.   0.25\n",
      " 0.5  0.25 0.25 0.5  0.75 0.5  0.5  0.5  0.25]' has dtype incompatible with int64, please explicitly cast to a compatible dtype first.\n",
      "  X_val.loc[:, minmax_cols] = x_sc_val\n",
      "C:\\Users\\Almudena\\AppData\\Local\\Temp\\ipykernel_25864\\1457338884.py:12: FutureWarning: Setting an item of incompatible dtype is deprecated and will raise in a future error of pandas. Value '[0.68965517 0.48275862 0.86206897 0.55172414 0.31034483 0.10344828\n",
      " 0.93103448 0.44827586 0.20689655 0.55172414 0.4137931  0.4137931\n",
      " 0.24137931 0.31034483 0.         0.62068966 0.10344828 0.4137931\n",
      " 1.         0.55172414 0.96551724 0.72413793 0.65517241 0.55172414\n",
      " 0.48275862 0.44827586 0.13793103 0.75862069 0.06896552 0.51724138\n",
      " 0.20689655 0.4137931  0.68965517 0.96551724 0.03448276 0.\n",
      " 0.5862069  0.72413793 0.93103448 0.44827586 0.13793103 0.13793103\n",
      " 0.89655172 0.75862069 0.44827586 0.31034483 0.65517241 0.62068966\n",
      " 0.93103448 0.44827586 0.93103448 0.72413793 0.27586207 0.24137931\n",
      " 0.         0.68965517 0.62068966 0.06896552 0.89655172 0.51724138\n",
      " 0.5862069  0.37931034 0.86206897 0.65517241 1.         0.37931034\n",
      " 0.20689655 0.31034483 0.20689655 0.20689655 0.82758621 0.68965517\n",
      " 0.17241379 0.55172414 0.31034483 0.65517241 0.13793103 0.17241379\n",
      " 0.55172414 0.51724138 0.17241379 0.24137931 0.68965517 0.17241379\n",
      " 0.79310345 0.89655172 0.82758621 0.62068966 0.48275862 0.34482759\n",
      " 0.17241379 0.93103448 0.82758621 0.62068966 0.06896552 0.27586207\n",
      " 0.03448276 0.96551724 0.03448276 0.         0.96551724 0.79310345\n",
      " 0.68965517 0.82758621 0.17241379 0.31034483 0.27586207 0.79310345\n",
      " 0.86206897 0.03448276 0.48275862 1.         0.72413793 0.62068966\n",
      " 0.03448276 0.24137931 0.93103448 0.86206897 0.72413793 0.62068966\n",
      " 0.03448276 0.17241379 0.         0.10344828 0.89655172 0.5862069\n",
      " 0.68965517 0.31034483 0.55172414 0.79310345 0.27586207 0.03448276\n",
      " 0.27586207 0.75862069 0.48275862 0.51724138 0.82758621 0.51724138\n",
      " 0.34482759 0.79310345 0.20689655 0.75862069 0.24137931 0.65517241\n",
      " 0.         0.24137931 0.51724138 0.82758621 0.27586207 0.86206897\n",
      " 0.55172414 0.44827586 0.5862069  0.27586207 0.31034483 0.27586207\n",
      " 0.27586207 0.24137931 0.17241379 0.86206897 0.51724138 0.27586207\n",
      " 0.82758621 0.65517241 0.37931034 0.55172414 0.31034483 0.03448276\n",
      " 0.44827586 0.03448276 0.79310345 0.68965517 0.         0.27586207\n",
      " 0.96551724 0.62068966 0.27586207 0.24137931 0.10344828 1.\n",
      " 0.4137931  0.48275862 0.86206897 0.93103448 0.72413793 0.5862069\n",
      " 0.37931034 0.37931034 0.82758621 0.10344828 0.72413793 0.4137931\n",
      " 1.         0.10344828 0.51724138 0.06896552 0.         1.\n",
      " 0.03448276 0.         0.86206897 0.37931034 0.65517241 0.96551724\n",
      " 0.5862069  0.51724138 0.13793103 0.93103448 0.10344828 0.31034483\n",
      " 0.93103448 0.5862069  1.         0.06896552 0.20689655 0.4137931\n",
      " 0.4137931  0.86206897 0.65517241 0.48275862 0.13793103 0.62068966\n",
      " 0.65517241 0.65517241 0.96551724 0.10344828 0.86206897 0.\n",
      " 0.13793103 0.75862069 0.31034483 0.65517241 0.48275862 0.89655172\n",
      " 0.51724138 0.17241379 0.68965517 0.62068966 0.17241379 0.82758621\n",
      " 0.75862069 0.86206897 0.03448276 0.48275862 0.20689655 0.06896552\n",
      " 0.         0.51724138 1.         0.5862069  0.03448276 0.72413793\n",
      " 0.06896552 0.10344828 0.68965517 0.82758621 0.72413793 0.93103448\n",
      " 0.37931034 0.10344828 0.65517241 0.65517241 0.82758621 0.65517241\n",
      " 0.13793103 0.24137931 0.13793103 0.17241379 0.79310345 0.34482759\n",
      " 0.17241379 0.17241379 0.10344828 0.37931034 0.55172414 0.44827586\n",
      " 0.86206897 0.89655172 0.79310345 0.65517241 0.31034483 0.68965517\n",
      " 0.20689655 0.48275862 0.17241379 0.86206897 0.24137931 0.72413793\n",
      " 0.82758621 0.79310345 0.75862069 0.24137931 0.79310345 0.65517241\n",
      " 0.27586207 0.86206897 0.96551724 0.24137931 0.79310345 0.24137931\n",
      " 0.96551724 0.17241379 0.34482759 0.51724138 0.51724138 0.37931034\n",
      " 0.93103448 0.55172414 0.55172414 0.72413793 0.72413793 0.20689655\n",
      " 0.06896552 0.06896552 0.86206897 0.96551724 0.79310345 0.5862069\n",
      " 0.27586207 0.         0.55172414 0.5862069  1.         0.13793103\n",
      " 0.44827586 0.86206897 0.68965517 0.68965517 0.34482759 0.68965517\n",
      " 0.51724138 0.20689655 0.44827586 0.24137931 0.13793103 1.\n",
      " 0.62068966 0.89655172 0.4137931  0.10344828 0.03448276 0.27586207\n",
      " 0.03448276 0.27586207 0.27586207 0.79310345 0.27586207 0.10344828\n",
      " 0.5862069  0.65517241 0.27586207 0.72413793 0.93103448 0.44827586\n",
      " 0.37931034 0.44827586 0.17241379 0.44827586 0.44827586]' has dtype incompatible with int64, please explicitly cast to a compatible dtype first.\n",
      "  X_val.loc[:, minmax_cols] = x_sc_val\n",
      "C:\\Users\\Almudena\\AppData\\Local\\Temp\\ipykernel_25864\\1457338884.py:12: FutureWarning: Setting an item of incompatible dtype is deprecated and will raise in a future error of pandas. Value '[0.25 0.75 0.25 0.75 0.75 0.5  0.75 0.75 0.75 0.75 0.25 0.5  0.   0.5\n",
      " 1.   0.   0.5  0.75 0.   0.   0.5  1.   1.   0.75 0.75 0.5  0.5  0.25\n",
      " 0.25 0.5  1.   0.75 0.5  0.75 0.25 0.25 0.5  0.5  0.25 0.5  0.5  0.5\n",
      " 0.75 0.75 0.75 0.75 0.5  1.   0.75 0.75 0.25 0.75 0.25 0.5  0.25 0.5\n",
      " 0.5  0.25 0.5  0.   0.75 0.   0.   1.   1.   0.5  0.5  0.25 0.5  0.25\n",
      " 0.75 0.75 0.   0.25 0.25 1.   0.75 0.75 0.25 0.75 0.5  0.5  0.   0.25\n",
      " 0.5  0.   0.   0.5  0.75 0.25 0.25 0.75 0.25 0.5  0.75 0.25 0.75 0.75\n",
      " 0.75 0.   0.75 0.   0.75 0.5  0.5  0.5  0.25 0.5  0.25 1.   0.   0.75\n",
      " 0.5  0.   0.5  0.75 0.25 0.5  0.5  1.   0.5  1.   0.25 0.5  0.75 0.75\n",
      " 0.25 0.75 0.25 0.5  0.5  0.25 1.   0.   0.   0.75 0.   0.5  0.25 0.\n",
      " 0.25 1.   0.5  0.25 0.75 1.   0.5  0.25 0.5  0.5  0.5  0.25 0.5  0.75\n",
      " 0.75 1.   0.25 1.   0.25 0.   1.   0.75 0.5  0.75 0.25 0.75 0.75 0.5\n",
      " 0.75 0.5  0.5  0.5  0.25 0.75 0.   0.5  0.75 0.5  1.   1.   0.25 0.75\n",
      " 0.25 0.5  0.   0.   0.75 0.75 0.5  0.   0.5  0.75 0.5  0.25 0.   0.25\n",
      " 0.5  0.75 0.5  0.5  0.   0.75 0.25 0.25 0.75 0.5  0.75 1.   0.75 0.5\n",
      " 0.75 0.5  1.   0.75 0.25 1.   0.25 0.25 0.75 0.5  0.5  1.   1.   0.75\n",
      " 0.5  0.25 0.75 1.   1.   0.5  0.5  0.25 0.5  0.25 0.25 0.5  0.75 0.25\n",
      " 0.5  0.5  0.75 0.75 0.5  0.75 0.75 0.25 1.   0.75 0.25 0.75 0.5  0.25\n",
      " 0.5  0.25 1.   0.25 0.5  0.5  0.5  1.   0.75 1.   1.   0.5  0.5  0.5\n",
      " 0.25 0.75 0.5  0.75 0.75 0.5  0.5  0.   0.75 0.75 0.25 1.   1.   0.25\n",
      " 0.25 0.5  0.75 0.25 1.   0.25 0.25 0.5  0.5  0.75 0.25 0.5  0.75 0.5\n",
      " 0.75 0.   0.75 0.5  1.   0.75 0.25 1.   0.75 0.5  0.25 0.5  0.5  0.75\n",
      " 0.75 0.5  0.5  0.25 0.   0.25 0.75 1.   0.5  0.75 0.5  0.   0.25 0.25\n",
      " 0.75 1.   0.25 0.25 0.75 0.75 0.5  0.75 0.   0.75 0.25 0.25 0.5  0.75\n",
      " 0.75 0.5  0.75 0.5  0.25 0.5  0.   0.5  0.75 0.5  0.5  0.5  0.5  0.25\n",
      " 0.   0.5  0.75 0.75 0.5  1.   0.5  1.   0.5 ]' has dtype incompatible with int64, please explicitly cast to a compatible dtype first.\n",
      "  X_val.loc[:, minmax_cols] = x_sc_val\n",
      "C:\\Users\\Almudena\\AppData\\Local\\Temp\\ipykernel_25864\\1457338884.py:15: FutureWarning: Setting an item of incompatible dtype is deprecated and will raise in a future error of pandas. Value '[0.5  0.75 0.5  0.75 0.   0.5  0.5  0.75 0.25 0.25 0.75 0.25 0.5  0.25\n",
      " 0.5  0.   0.   0.5  0.75 0.   0.5  0.5  0.75 0.5  1.   0.25 0.25 0.5\n",
      " 1.   0.25 0.25 0.5  0.   0.5  0.5  0.5  0.   0.75 0.5  0.75 0.25 0.5\n",
      " 0.5  0.75 0.25 0.25 0.5  0.5  1.   1.   0.75 0.5  0.25 0.5  0.25 0.5\n",
      " 0.75 0.5  1.   0.75 0.75 0.5  0.75 1.   0.5  0.25 0.5  0.75 0.5  0.5\n",
      " 0.25 0.5  0.   0.5  0.5  0.5  0.75 0.25 0.25 0.25 0.25 0.25 0.25 0.75\n",
      " 0.5  0.75 0.5  0.5  0.5  0.75 0.75 0.   0.5  0.25 0.5  0.   0.75 0.5\n",
      " 0.75 0.5  0.25 0.   0.5  0.25 0.5  0.5  0.25 0.5  0.75 0.   0.25 0.\n",
      " 0.25 0.   1.   0.75 0.75 0.   0.25 0.25 0.25 0.75 0.   0.25 0.25 0.25\n",
      " 0.5  0.25 0.5  1.   0.75 0.25 0.   0.25 0.5  0.25 0.25 0.75 0.5  0.75\n",
      " 0.25 0.75 0.25 0.25 0.75 1.   0.75 0.25 0.25 0.5  0.5  0.5  0.25 1.\n",
      " 0.5  0.25 0.25 0.5  0.25 0.5  0.25 0.5  0.25 0.25 0.25 0.5  0.25 0.5\n",
      " 0.5  0.75 0.25 0.25 0.   0.25 0.75 0.75 0.5  0.5  0.5  0.5  0.5  0.25\n",
      " 0.25 0.75 0.   0.25 0.5  0.5  0.25 0.25 0.25 0.25 0.5  0.5  0.25 0.25\n",
      " 0.75 0.5  0.5  0.75 0.5  0.5  0.25 0.5  0.   0.75 0.25 0.5  0.25 0.75\n",
      " 0.25 0.5  0.25 0.5  0.5  0.25 0.75 1.   0.   0.   0.25 0.25 0.75 0.25\n",
      " 0.25 0.25 0.25 0.25 0.5  0.25 0.5  0.25 0.5  0.   0.75 0.5  0.25 0.5\n",
      " 0.25 0.75 0.75 0.5  0.25 1.   0.5  0.5  0.5  0.   0.5  0.25 0.75 0.25\n",
      " 0.5  0.5  0.5  0.5  0.25 0.75 0.25 0.5  0.75 0.5  0.5  0.75 0.25 0.25\n",
      " 0.5  0.5  0.75 0.5  0.5  1.   0.   0.5  1.   0.25 0.5  0.25 0.75 0.5\n",
      " 0.5  1.   0.5  0.25 0.5  0.25 0.   0.5  0.25 0.5  0.25 0.5  0.5  0.25\n",
      " 0.25 0.75 0.25 0.25 0.   0.25 0.25 0.5  0.75 0.5  0.75 0.25 0.25 0.\n",
      " 0.25 0.25 0.75 0.5  0.5  0.5  0.75 0.   0.   0.5  0.75 0.5  0.   0.25\n",
      " 0.25 0.75 0.25 0.25 0.75 0.5  0.5  0.25 0.5  0.   0.25 0.   0.25 0.75\n",
      " 0.75 0.5  0.25 0.75 0.25 0.75 1.   0.75 0.25 0.5  0.5  0.5  0.75 0.25\n",
      " 0.5  0.5  0.   0.   0.5  0.25 0.   0.5  0.25]' has dtype incompatible with int64, please explicitly cast to a compatible dtype first.\n",
      "  X_test.loc[:, minmax_cols] = x_sc_test\n",
      "C:\\Users\\Almudena\\AppData\\Local\\Temp\\ipykernel_25864\\1457338884.py:15: FutureWarning: Setting an item of incompatible dtype is deprecated and will raise in a future error of pandas. Value '[0.31034483 0.34482759 0.55172414 0.10344828 0.86206897 0.48275862\n",
      " 0.89655172 0.06896552 0.72413793 0.48275862 0.24137931 0.75862069\n",
      " 0.82758621 0.34482759 0.4137931  0.44827586 0.55172414 0.89655172\n",
      " 0.62068966 1.         0.06896552 0.17241379 0.82758621 0.82758621\n",
      " 0.82758621 0.44827586 1.         1.         0.86206897 0.17241379\n",
      " 0.75862069 0.72413793 0.51724138 0.55172414 0.24137931 1.\n",
      " 0.55172414 0.44827586 0.86206897 0.5862069  0.24137931 0.13793103\n",
      " 0.10344828 0.27586207 0.5862069  0.27586207 0.31034483 0.10344828\n",
      " 0.20689655 0.5862069  0.79310345 0.27586207 0.48275862 0.82758621\n",
      " 0.20689655 0.86206897 0.55172414 0.20689655 0.86206897 0.65517241\n",
      " 0.4137931  0.27586207 0.93103448 0.82758621 0.24137931 0.24137931\n",
      " 0.79310345 0.5862069  0.82758621 0.86206897 0.86206897 0.48275862\n",
      " 0.34482759 0.34482759 0.89655172 0.48275862 0.44827586 0.55172414\n",
      " 0.20689655 0.27586207 0.86206897 0.51724138 0.31034483 0.4137931\n",
      " 0.51724138 0.06896552 0.96551724 0.24137931 0.34482759 0.31034483\n",
      " 0.86206897 0.51724138 0.48275862 0.13793103 0.03448276 0.93103448\n",
      " 1.         0.17241379 0.65517241 0.75862069 0.72413793 0.31034483\n",
      " 1.         0.82758621 0.62068966 0.51724138 0.20689655 0.82758621\n",
      " 0.06896552 0.4137931  0.75862069 0.68965517 0.75862069 0.68965517\n",
      " 0.4137931  0.31034483 0.4137931  0.75862069 0.20689655 0.65517241\n",
      " 0.06896552 0.55172414 0.79310345 0.17241379 0.5862069  0.06896552\n",
      " 0.86206897 0.17241379 0.5862069  0.         0.79310345 0.24137931\n",
      " 0.72413793 0.27586207 0.48275862 0.79310345 0.68965517 0.96551724\n",
      " 0.24137931 0.13793103 0.79310345 0.20689655 0.17241379 0.06896552\n",
      " 0.         0.55172414 0.48275862 0.24137931 0.44827586 0.96551724\n",
      " 0.86206897 0.24137931 0.31034483 0.5862069  0.4137931  0.48275862\n",
      " 0.         0.44827586 0.89655172 0.03448276 0.10344828 0.89655172\n",
      " 0.5862069  0.93103448 0.65517241 0.20689655 0.72413793 0.75862069\n",
      " 0.65517241 0.24137931 0.31034483 0.17241379 0.24137931 0.17241379\n",
      " 0.24137931 0.55172414 0.44827586 0.10344828 0.         0.03448276\n",
      " 0.24137931 0.37931034 0.27586207 0.93103448 0.55172414 0.13793103\n",
      " 0.82758621 0.82758621 0.06896552 0.5862069  0.4137931  0.03448276\n",
      " 0.37931034 0.4137931  0.17241379 0.5862069  0.         0.51724138\n",
      " 0.86206897 0.93103448 0.06896552 0.03448276 0.37931034 0.72413793\n",
      " 0.44827586 0.65517241 0.13793103 0.89655172 0.51724138 0.03448276\n",
      " 0.24137931 1.         0.5862069  0.24137931 0.24137931 0.\n",
      " 0.93103448 0.68965517 0.75862069 0.31034483 0.75862069 0.51724138\n",
      " 0.34482759 0.31034483 0.75862069 0.51724138 0.44827586 0.03448276\n",
      " 0.27586207 0.06896552 0.89655172 0.34482759 0.79310345 0.96551724\n",
      " 0.5862069  0.68965517 0.89655172 0.27586207 0.65517241 0.48275862\n",
      " 0.27586207 0.62068966 0.82758621 0.75862069 0.10344828 0.72413793\n",
      " 0.51724138 0.31034483 1.         0.20689655 0.55172414 0.20689655\n",
      " 0.37931034 0.86206897 0.93103448 0.4137931  0.79310345 0.\n",
      " 0.31034483 0.5862069  0.4137931  0.10344828 0.79310345 0.20689655\n",
      " 0.4137931  0.10344828 0.4137931  0.10344828 0.82758621 0.55172414\n",
      " 0.96551724 0.75862069 0.55172414 0.55172414 0.31034483 1.\n",
      " 0.37931034 0.79310345 0.86206897 0.         0.10344828 0.34482759\n",
      " 0.89655172 0.13793103 0.93103448 0.75862069 0.4137931  0.4137931\n",
      " 0.72413793 0.4137931  0.55172414 0.51724138 0.27586207 0.93103448\n",
      " 0.93103448 0.27586207 0.20689655 0.5862069  1.         0.27586207\n",
      " 0.48275862 0.06896552 0.68965517 0.24137931 1.         0.48275862\n",
      " 0.48275862 0.75862069 0.4137931  0.96551724 0.48275862 0.44827586\n",
      " 0.10344828 0.68965517 0.62068966 0.27586207 0.24137931 0.62068966\n",
      " 0.65517241 0.93103448 0.96551724 0.62068966 0.34482759 0.10344828\n",
      " 0.06896552 0.48275862 0.06896552 0.03448276 0.4137931  0.62068966\n",
      " 0.72413793 0.55172414 0.55172414 0.31034483 0.51724138 0.79310345\n",
      " 0.17241379 0.68965517 0.27586207 0.31034483 0.72413793 0.93103448\n",
      " 0.34482759 0.03448276 0.68965517 0.55172414 0.17241379 0.68965517\n",
      " 0.65517241 0.03448276 0.44827586 0.24137931 0.86206897 0.75862069\n",
      " 0.48275862 0.62068966 1.         0.31034483 0.4137931 ]' has dtype incompatible with int64, please explicitly cast to a compatible dtype first.\n",
      "  X_test.loc[:, minmax_cols] = x_sc_test\n",
      "C:\\Users\\Almudena\\AppData\\Local\\Temp\\ipykernel_25864\\1457338884.py:15: FutureWarning: Setting an item of incompatible dtype is deprecated and will raise in a future error of pandas. Value '[0.75 0.5  1.   0.5  0.5  0.   0.75 0.5  1.   0.5  0.75 0.5  1.   0.\n",
      " 0.75 0.5  0.5  0.5  0.25 0.75 0.75 0.75 0.25 0.75 0.   0.75 0.5  0.5\n",
      " 0.5  0.75 0.25 0.25 1.   0.75 0.75 0.75 0.75 0.75 0.5  0.75 0.25 0.75\n",
      " 0.5  0.25 0.25 0.   0.5  1.   0.25 0.75 0.5  0.25 0.75 0.5  0.25 0.5\n",
      " 0.5  0.75 0.75 0.75 0.75 0.25 0.5  0.5  0.   1.   0.75 1.   0.75 1.\n",
      " 0.75 0.75 1.   0.75 0.75 0.25 0.   1.   0.75 0.5  0.75 0.5  0.5  0.5\n",
      " 0.5  0.5  0.5  0.5  1.   0.25 0.5  0.5  0.75 0.5  0.75 1.   0.   0.75\n",
      " 0.5  1.   0.   0.   0.5  0.75 0.25 0.5  0.   0.75 0.5  0.75 0.75 0.25\n",
      " 0.5  0.5  0.25 1.   0.25 0.25 0.   0.5  0.   0.25 0.5  0.75 0.75 0.25\n",
      " 0.75 0.5  0.5  0.5  0.   0.5  0.   0.75 1.   0.25 0.5  0.75 0.25 0.25\n",
      " 0.75 1.   0.75 0.25 0.75 1.   0.75 0.5  1.   0.5  0.75 0.   0.5  0.5\n",
      " 0.   0.25 0.75 0.25 0.5  0.5  0.75 0.75 0.25 0.25 0.5  0.25 0.5  0.25\n",
      " 0.75 0.75 0.5  0.25 0.5  0.25 0.75 0.   0.25 1.   0.5  0.75 0.25 0.75\n",
      " 0.25 0.   0.5  0.75 0.5  0.25 0.5  0.5  0.75 0.5  0.25 0.75 0.   1.\n",
      " 0.   0.75 1.   0.5  1.   0.   0.75 0.   0.75 0.   0.25 0.75 0.75 0.75\n",
      " 0.25 0.   0.25 0.5  0.5  0.25 0.25 0.5  0.25 0.75 0.   1.   0.5  0.75\n",
      " 0.   0.   0.5  0.75 0.25 0.5  0.25 0.5  1.   0.25 1.   0.25 1.   0.25\n",
      " 0.5  0.75 0.   0.75 0.5  0.25 0.75 0.75 1.   0.5  0.5  0.25 0.75 0.25\n",
      " 1.   0.5  0.5  0.75 0.   0.25 0.75 0.25 0.5  0.5  0.   0.   1.   0.25\n",
      " 0.25 0.5  0.25 0.5  0.5  0.75 0.5  0.5  0.75 0.75 0.   0.25 0.   0.25\n",
      " 0.75 0.5  0.75 0.25 0.75 1.   0.5  0.75 0.5  0.25 0.5  0.75 0.25 0.75\n",
      " 0.25 0.25 0.75 0.75 0.75 0.75 0.75 0.5  0.5  0.5  0.5  0.75 0.   0.75\n",
      " 0.5  0.5  0.75 0.5  1.   0.75 0.   0.75 0.25 0.75 0.25 1.   0.75 0.25\n",
      " 0.5  0.25 0.75 0.25 0.75 0.   0.75 0.5  0.   1.   0.5  0.75 0.5  0.75\n",
      " 1.   0.5  0.5  0.5  0.75 0.   0.25 0.25 0.25 0.5  0.5  0.75 0.75 0.75\n",
      " 0.75 0.5  0.75 0.   0.25 0.75 0.5  0.75 1.  ]' has dtype incompatible with int64, please explicitly cast to a compatible dtype first.\n",
      "  X_test.loc[:, minmax_cols] = x_sc_test\n"
     ]
    }
   ],
   "source": [
    "from sklearn.preprocessing import MinMaxScaler\n",
    "\n",
    "\n",
    "minmax_cols = ['ParentalEducation', 'StudyTimeWeekly',\n",
    "                'Absences', 'ParentalSupport']\n",
    "sc = MinMaxScaler()\n",
    "\n",
    "x_sc_train = sc.fit_transform(X_train.loc[:, minmax_cols])\n",
    "X_train.loc[:, minmax_cols] = x_sc_train\n",
    "\n",
    "x_sc_val = sc.transform(X_val.loc[:, minmax_cols])\n",
    "X_val.loc[:, minmax_cols] = x_sc_val\n",
    "\n",
    "x_sc_test = sc.transform(X_test.loc[:, minmax_cols])\n",
    "X_test.loc[:, minmax_cols] = x_sc_test\n",
    "    \n",
    "with open('minmax_scaler.bin', 'wb') as f_out:\n",
    "    pickle.dump(sc, f_out)"
   ]
  },
  {
   "cell_type": "markdown",
   "metadata": {},
   "source": [
    "We don't need for now this transformation due to the models we are going to use.\n"
   ]
  },
  {
   "cell_type": "code",
   "execution_count": 44,
   "metadata": {},
   "outputs": [
    {
     "data": {
      "text/plain": [
       "array([[<Axes: title={'center': 'GradeClass'}>]], dtype=object)"
      ]
     },
     "execution_count": 44,
     "metadata": {},
     "output_type": "execute_result"
    },
    {
     "data": {
      "image/png": "[encoded data removed]",
      "text/plain": [
       "<Figure size 640x480 with 1 Axes>"
      ]
     },
     "metadata": {},
     "output_type": "display_data"
    }
   ],
   "source": [
    "y_train.hist()"
   ]
  },
  {
   "cell_type": "markdown",
   "metadata": {},
   "source": [
    "from sklearn.preprocessing import OneHotEncoder\n",
    "\n",
    "\n",
    "ohe = OneHotEncoder(sparse_output=False)\n",
    "y_train = ohe.fit_transform(y_train)\n",
    "y_val = ohe.transform(y_val)\n",
    "y_test = ohe.transform(y_test)"
   ]
  },
  {
   "cell_type": "code",
   "execution_count": 45,
   "metadata": {},
   "outputs": [
    {
     "data": {
      "text/plain": [
       "StudentID            0\n",
       "Age                  0\n",
       "Gender               0\n",
       "Ethnicity            0\n",
       "ParentalEducation    0\n",
       "StudyTimeWeekly      0\n",
       "Absences             0\n",
       "Tutoring             0\n",
       "ParentalSupport      0\n",
       "Extracurricular      0\n",
       "Sports               0\n",
       "Music                0\n",
       "Volunteering         0\n",
       "dtype: int64"
      ]
     },
     "execution_count": 45,
     "metadata": {},
     "output_type": "execute_result"
    }
   ],
   "source": [
    "X_train.isna().sum()\n"
   ]
  },
  {
   "cell_type": "markdown",
   "metadata": {},
   "source": []
  },
  {
   "cell_type": "code",
   "execution_count": 46,
   "metadata": {},
   "outputs": [
    {
     "data": {
      "text/plain": [
       "<Axes: >"
      ]
     },
     "execution_count": 46,
     "metadata": {},
     "output_type": "execute_result"
    },
    {
     "data": {
      "image/png": "[encoded data removed]",
      "text/plain": [
       "<Figure size 640x480 with 1 Axes>"
      ]
     },
     "metadata": {},
     "output_type": "display_data"
    }
   ],
   "source": [
    "data.StudyTimeWeekly.hist()"
   ]
  },
  {
   "cell_type": "code",
   "execution_count": 47,
   "metadata": {},
   "outputs": [
    {
     "data": {
      "text/plain": [
       "<Axes: >"
      ]
     },
     "execution_count": 47,
     "metadata": {},
     "output_type": "execute_result"
    },
    {
     "data": {
      "image/png": "[encoded data removed]",
      "text/plain": [
       "<Figure size 640x480 with 1 Axes>"
      ]
     },
     "metadata": {},
     "output_type": "display_data"
    }
   ],
   "source": [
    "data.Absences.hist()"
   ]
  },
  {
   "cell_type": "code",
   "execution_count": 48,
   "metadata": {},
   "outputs": [
    {
     "data": {
      "image/png": "[encoded data removed]",
      "text/plain": [
       "<Figure size 640x480 with 1 Axes>"
      ]
     },
     "metadata": {},
     "output_type": "display_data"
    },
    {
     "data": {
      "image/png": "[encoded data removed]",
      "text/plain": [
       "<Figure size 640x480 with 1 Axes>"
      ]
     },
     "metadata": {},
     "output_type": "display_data"
    },
    {
     "data": {
      "image/png": "[encoded data removed]",
      "text/plain": [
       "<Figure size 640x480 with 1 Axes>"
      ]
     },
     "metadata": {},
     "output_type": "display_data"
    },
    {
     "data": {
      "image/png": "[encoded data removed]",
      "text/plain": [
       "<Figure size 640x480 with 1 Axes>"
      ]
     },
     "metadata": {},
     "output_type": "display_data"
    },
    {
     "data": {
      "image/png": "[encoded data removed]",
      "text/plain": [
       "<Figure size 640x480 with 1 Axes>"
      ]
     },
     "metadata": {},
     "output_type": "display_data"
    },
    {
     "data": {
      "image/png": "[encoded data removed]",
      "text/plain": [
       "<Figure size 640x480 with 1 Axes>"
      ]
     },
     "metadata": {},
     "output_type": "display_data"
    },
    {
     "data": {
      "image/png": "[encoded data removed]",
      "text/plain": [
       "<Figure size 640x480 with 1 Axes>"
      ]
     },
     "metadata": {},
     "output_type": "display_data"
    }
   ],
   "source": [
    "cat_columns = ['ParentalEducation', 'Tutoring', 'ParentalSupport',\n",
    "                'Extracurricular', 'Sports', 'Music', 'Volunteering']\n",
    "\n",
    "\n",
    "for col in cat_columns: \n",
    "    data[[col]].hist()"
   ]
  },
  {
   "cell_type": "code",
   "execution_count": 49,
   "metadata": {},
   "outputs": [
    {
     "data": {
      "text/plain": [
       "<Axes: >"
      ]
     },
     "execution_count": 49,
     "metadata": {},
     "output_type": "execute_result"
    },
    {
     "data": {
      "image/png": "[encoded data removed]",
      "text/plain": [
       "<Figure size 640x480 with 1 Axes>"
      ]
     },
     "metadata": {},
     "output_type": "display_data"
    }
   ],
   "source": [
    "X_train.ParentalEducation.hist()"
   ]
  },
  {
   "cell_type": "code",
   "execution_count": 50,
   "metadata": {},
   "outputs": [],
   "source": [
    "columns_to_drop = ['StudentID', 'Age', 'Gender', 'Ethnicity']\n"
   ]
  },
  {
   "cell_type": "code",
   "execution_count": 51,
   "metadata": {},
   "outputs": [],
   "source": [
    "X_train.drop(columns_to_drop, axis=1, inplace=True)\n",
    "X_val.drop(columns_to_drop, axis=1, inplace=True)\n",
    "X_test.drop(columns_to_drop, axis=1, inplace=True)"
   ]
  },
  {
   "cell_type": "markdown",
   "metadata": {},
   "source": [
    "# Model Training"
   ]
  },
  {
   "cell_type": "code",
   "execution_count": 52,
   "metadata": {},
   "outputs": [],
   "source": [
    "import scipy.stats as stats\n",
    "\n",
    "from sklearn.linear_model import SGDClassifier\n",
    "from sklearn.tree import DecisionTreeClassifier\n",
    "from sklearn.svm import SVC\n",
    "from sklearn.model_selection import RandomizedSearchCV\n",
    "from sklearn.pipeline import Pipeline\n",
    "from sklearn.ensemble import RandomForestClassifier"
   ]
  },
  {
   "cell_type": "code",
   "execution_count": 53,
   "metadata": {},
   "outputs": [],
   "source": [
    "param_dists = [{\n",
    "    'clf': [SVC()],\n",
    "    'clf__C': stats.loguniform(1e-2, 1e3)\n",
    "},\n",
    "{\n",
    "    'clf': [DecisionTreeClassifier()],\n",
    "    'clf__criterion': ['gini','entropy'],\n",
    "    'clf__splitter': ['best','random'],\n",
    "    'clf__class_weight':['balanced', None]\n",
    "},\n",
    "{\n",
    "    \"clf\": [SGDClassifier(loss=\"hinge\", penalty=\"elasticnet\", fit_intercept=True)],\n",
    "    \"clf__average\": [True, False],\n",
    "    \"clf__l1_ratio\": stats.uniform(0, 1),\n",
    "    \"clf__alpha\": stats.loguniform(1e-2, 1e0),\n",
    "}, \n",
    "{'clf': [RandomForestClassifier()],\n",
    " 'clf__bootstrap': [True, False],\n",
    " 'clf__max_depth': [10, 20, 30, None],\n",
    " 'clf__min_samples_leaf': [1, 2, 4],\n",
    " 'clf__min_samples_split': [2, 5, 10],\n",
    " 'clf__n_estimators': stats.randint(20, 100)}]"
   ]
  },
  {
   "cell_type": "code",
   "execution_count": 54,
   "metadata": {},
   "outputs": [
    {
     "name": "stdout",
     "output_type": "stream",
     "text": [
      "-------------- {'clf': [SVC()], 'clf__C': <scipy.stats._distn_infrastructure.rv_continuous_frozen object at 0x000002EA14DA8910>} --------------\n",
      "-------------- {'clf': [DecisionTreeClassifier()], 'clf__criterion': ['gini', 'entropy'], 'clf__splitter': ['best', 'random'], 'clf__class_weight': ['balanced', None]} --------------\n"
     ]
    },
    {
     "name": "stderr",
     "output_type": "stream",
     "text": [
      "e:\\Documentos\\Proyectos\\Professional\\mlops-student-performance\\.venv\\lib\\site-packages\\sklearn\\model_selection\\_search.py:320: UserWarning: The total space of parameters 8 is smaller than n_iter=10. Running 8 iterations. For exhaustive searches, use GridSearchCV.\n",
      "  warnings.warn(\n"
     ]
    },
    {
     "name": "stdout",
     "output_type": "stream",
     "text": [
      "-------------- {'clf': [SGDClassifier(penalty='elasticnet')], 'clf__average': [True, False], 'clf__l1_ratio': <scipy.stats._distn_infrastructure.rv_continuous_frozen object at 0x000002EA14D54520>, 'clf__alpha': <scipy.stats._distn_infrastructure.rv_continuous_frozen object at 0x000002EA1490ED90>} --------------\n",
      "-------------- {'clf': [RandomForestClassifier()], 'clf__bootstrap': [True, False], 'clf__max_depth': [10, 20, 30, None], 'clf__min_samples_leaf': [1, 2, 4], 'clf__min_samples_split': [2, 5, 10], 'clf__n_estimators': <scipy.stats._distn_infrastructure.rv_discrete_frozen object at 0x000002EA06336160>} --------------\n"
     ]
    }
   ],
   "source": [
    "n_iter_search = 10\n",
    "n_cv = 5\n",
    "\n",
    "results = {}\n",
    "\n",
    "for param_dist in param_dists:\n",
    "    print(\"-------------- \" + str(param_dist) + \" --------------\")\n",
    "    clf = param_dist['clf'][0]\n",
    "    \n",
    "    param_dist.pop('clf')\n",
    "    steps = [('clf', clf)]\n",
    "    random_search = RandomizedSearchCV(\n",
    "        Pipeline(steps), param_distributions=param_dist,\n",
    "          cv=n_cv, n_iter=n_iter_search, scoring='f1_macro'\n",
    "    )\n",
    "    random_search.fit(X_train, y_train.values.ravel())\n",
    "    train_score = random_search.best_score_\n",
    "    val_score = random_search.score(X_val, y_val.values.ravel())\n",
    "    estimator_name = random_search.best_estimator_.steps[0][1].__class__\n",
    "    results[estimator_name] = {'estimator': random_search.best_estimator_,\n",
    "                               'mean_train_score': train_score, 'val_score': val_score}\n"
   ]
  },
  {
   "cell_type": "code",
   "execution_count": 55,
   "metadata": {},
   "outputs": [
    {
     "data": {
      "text/html": [
       "<div>\n",
       "<style scoped>\n",
       "    .dataframe tbody tr th:only-of-type {\n",
       "        vertical-align: middle;\n",
       "    }\n",
       "\n",
       "    .dataframe tbody tr th {\n",
       "        vertical-align: top;\n",
       "    }\n",
       "\n",
       "    .dataframe thead th {\n",
       "        text-align: right;\n",
       "    }\n",
       "</style>\n",
       "<table border=\"1\" class=\"dataframe\">\n",
       "  <thead>\n",
       "    <tr style=\"text-align: right;\">\n",
       "      <th></th>\n",
       "      <th>&lt;class 'sklearn.svm._classes.SVC'&gt;</th>\n",
       "      <th>&lt;class 'sklearn.tree._classes.DecisionTreeClassifier'&gt;</th>\n",
       "      <th>&lt;class 'sklearn.linear_model._stochastic_gradient.SGDClassifier'&gt;</th>\n",
       "      <th>&lt;class 'sklearn.ensemble._forest.RandomForestClassifier'&gt;</th>\n",
       "    </tr>\n",
       "  </thead>\n",
       "  <tbody>\n",
       "    <tr>\n",
       "      <th>estimator</th>\n",
       "      <td>(SVC(C=10.436256611818001))</td>\n",
       "      <td>(DecisionTreeClassifier(class_weight='balanced...</td>\n",
       "      <td>(SGDClassifier(alpha=0.010039190976125104, l1_...</td>\n",
       "      <td>((DecisionTreeClassifier(max_depth=20, max_fea...</td>\n",
       "    </tr>\n",
       "    <tr>\n",
       "      <th>mean_train_score</th>\n",
       "      <td>0.556928</td>\n",
       "      <td>0.496171</td>\n",
       "      <td>0.289972</td>\n",
       "      <td>0.581854</td>\n",
       "    </tr>\n",
       "    <tr>\n",
       "      <th>val_score</th>\n",
       "      <td>0.553415</td>\n",
       "      <td>0.453301</td>\n",
       "      <td>0.347831</td>\n",
       "      <td>0.57337</td>\n",
       "    </tr>\n",
       "  </tbody>\n",
       "</table>\n",
       "</div>"
      ],
      "text/plain": [
       "                 <class 'sklearn.svm._classes.SVC'>  \\\n",
       "estimator               (SVC(C=10.436256611818001))   \n",
       "mean_train_score                           0.556928   \n",
       "val_score                                  0.553415   \n",
       "\n",
       "                 <class 'sklearn.tree._classes.DecisionTreeClassifier'>  \\\n",
       "estimator         (DecisionTreeClassifier(class_weight='balanced...       \n",
       "mean_train_score                                           0.496171       \n",
       "val_score                                                  0.453301       \n",
       "\n",
       "                 <class 'sklearn.linear_model._stochastic_gradient.SGDClassifier'>  \\\n",
       "estimator         (SGDClassifier(alpha=0.010039190976125104, l1_...                  \n",
       "mean_train_score                                           0.289972                  \n",
       "val_score                                                  0.347831                  \n",
       "\n",
       "                 <class 'sklearn.ensemble._forest.RandomForestClassifier'>  \n",
       "estimator         ((DecisionTreeClassifier(max_depth=20, max_fea...         \n",
       "mean_train_score                                           0.581854         \n",
       "val_score                                                   0.57337         "
      ]
     },
     "execution_count": 55,
     "metadata": {},
     "output_type": "execute_result"
    }
   ],
   "source": [
    "pd.DataFrame(results)"
   ]
  },
  {
   "cell_type": "code",
   "execution_count": 56,
   "metadata": {},
   "outputs": [],
   "source": [
    "from sklearn.metrics import accuracy_score, roc_auc_score , f1_score\n",
    "from sklearn.svm import SVC\n",
    "from sklearn.ensemble import RandomForestClassifier\n",
    "from xgboost import XGBClassifier\n",
    " \n",
    "from hyperopt import fmin, tpe, hp, STATUS_OK, Trials"
   ]
  },
  {
   "cell_type": "code",
   "execution_count": 57,
   "metadata": {},
   "outputs": [
    {
     "data": {
      "text/plain": [
       "<Experiment: artifact_location='s3://mlflow-artifact-student-performance/1', creation_time=1720824921745, experiment_id='1', last_update_time=1720824921745, lifecycle_stage='active', name='student-performance', tags={}>"
      ]
     },
     "execution_count": 57,
     "metadata": {},
     "output_type": "execute_result"
    }
   ],
   "source": [
    "mlflow.set_tracking_uri('http://127.0.0.1:5000')\n",
    "mlflow.set_experiment('student-performance')"
   ]
  },
  {
   "cell_type": "code",
   "execution_count": 58,
   "metadata": {},
   "outputs": [],
   "source": [
    "search_space = hp.choice('classifier_type', [\n",
    "    {\n",
    "        'type': 'svm',\n",
    "        'C': hp.lognormal('SVM_C', 0, 1.0)\n",
    "    },\n",
    "    {\n",
    "        'type': 'rf',\n",
    "        'max_depth': hp.randint('rf_max_depth', 5, 100),\n",
    "        'criterion': hp.choice('rf_criterion', ['gini', 'entropy'])\n",
    "    },\n",
    "    {\n",
    "        'type': 'dt',\n",
    "        'criterion': hp.choice('dt_criterion', ['gini','entropy']),\n",
    "        'splitter': hp.choice('dt_splitter', ['best','random']),\n",
    "        'class_weight':hp.choice('dt_class_weight', ['balanced', None])\n",
    "    },\n",
    "    {\n",
    "        'type': 'xgb',\n",
    "        'learning_rate': hp.choice('xgb_learning_rate', [0.0005,0.001, 0.01, 0.5, 1]),\n",
    "        'max_depth' : hp.choice('xgb_max_depth', range(3,21,3)),\n",
    "        'gamma' : hp.choice('xgb_gamma', [i/10.0 for i in range(0,5)]),\n",
    "        'colsample_bytree' : hp.choice('xgb_colsample_bytree', [i/10.0 for i in range(3,10)]),     \n",
    "        'reg_alpha' : hp.choice('xgb_reg_alpha', [1e-5, 1e-2, 0.1, 1, 10, 100]), \n",
    "        'reg_lambda' : hp.choice('xgb_reg_lambda', [1e-5, 1e-2, 0.1, 1, 10, 100]),\n",
    "        'seed': hp.choice('xgb_seed', [0,7,42])\n",
    "    }\n",
    "])"
   ]
  },
  {
   "cell_type": "code",
   "execution_count": 59,
   "metadata": {},
   "outputs": [],
   "source": [
    "def objective (params):\n",
    "    with mlflow.start_run(nested=True):\n",
    "        print(params)\n",
    "        classifier_type = params['type']\n",
    "        mlflow.set_tag(\"model\", classifier_type)\n",
    "        del params['type']\n",
    "        if classifier_type == 'svm':\n",
    "            clf = SVC(**params)\n",
    "        elif classifier_type == 'rf':\n",
    "            clf = RandomForestClassifier(**params)\n",
    "        elif classifier_type == 'dt':\n",
    "            clf = DecisionTreeClassifier(**params)\n",
    "        elif classifier_type == 'xgb':\n",
    "            clf = XGBClassifier(**params)\n",
    "        else:\n",
    "            return 0\n",
    "        mlflow.log_params(params)\n",
    "\n",
    "        clf.fit(X_train, y_train)\n",
    "        \n",
    "        y_pred = clf.predict(X_val)\n",
    "        accuracy = accuracy_score(y_val, y_pred)\n",
    "        mlflow.log_metric(\"accuracy\", accuracy)\n",
    "        f1 = f1_score(y_val, y_pred,  average='macro')\n",
    "        mlflow.log_metric(\"f1_score\", f1)\n",
    "\n",
    "        if getattr(clf, 'predict_proba', None):\n",
    "            y_pred_proba = clf.predict_proba(X_val)\n",
    "            roc_auc = roc_auc_score(y_val, y_pred_proba, average='micro', multi_class='ovr')\n",
    "            mlflow.log_metric(\"roc_auc\", roc_auc)\n",
    "\n",
    "        mlflow.sklearn.log_model(\n",
    "            sk_model=clf,\n",
    "            artifact_path=\"mlruns\"\n",
    "        )\n",
    "        mlflow.log_artifact(local_path=\"minmax_scaler.bin\", artifact_path=\"minmax_scaler\")\n",
    "\n",
    "    return {'loss': -f1, 'status': STATUS_OK } "
   ]
  },
  {
   "cell_type": "code",
   "execution_count": 60,
   "metadata": {},
   "outputs": [
    {
     "name": "stdout",
     "output_type": "stream",
     "text": [
      "{'class_weight': 'balanced', 'criterion': 'entropy', 'splitter': 'best', 'type': 'dt'}\n",
      "{'criterion': 'entropy', 'max_depth': 41, 'type': 'rf'}                           \n",
      "  3%|▎         | 1/32 [00:08<04:11,  8.12s/trial, best loss: -0.43413066918542664]"
     ]
    },
    {
     "name": "stderr",
     "output_type": "stream",
     "text": [
      "e:\\Documentos\\Proyectos\\Professional\\mlops-student-performance\\.venv\\lib\\site-packages\\sklearn\\base.py:1473: DataConversionWarning: A column-vector y was passed when a 1d array was expected. Please change the shape of y to (n_samples,), for example using ravel().\n",
      "  return fit_method(estimator, *args, **kwargs)\n",
      "\n"
     ]
    },
    {
     "name": "stdout",
     "output_type": "stream",
     "text": [
      "{'criterion': 'gini', 'max_depth': 92, 'type': 'rf'}                              \n",
      "  6%|▋         | 2/32 [00:29<08:01, 16.04s/trial, best loss: -0.5630154631587793]"
     ]
    },
    {
     "name": "stderr",
     "output_type": "stream",
     "text": [
      "e:\\Documentos\\Proyectos\\Professional\\mlops-student-performance\\.venv\\lib\\site-packages\\sklearn\\base.py:1473: DataConversionWarning: A column-vector y was passed when a 1d array was expected. Please change the shape of y to (n_samples,), for example using ravel().\n",
      "  return fit_method(estimator, *args, **kwargs)\n",
      "\n"
     ]
    },
    {
     "name": "stdout",
     "output_type": "stream",
     "text": [
      "{'colsample_bytree': 0.3, 'gamma': 0.3, 'learning_rate': 0.001, 'max_depth': 12, 'reg_alpha': 1, 'reg_lambda': 100, 'seed': 42, 'type': 'xgb'}\n",
      "{'class_weight': 'balanced', 'criterion': 'entropy', 'splitter': 'best', 'type': 'dt'}\n",
      "{'colsample_bytree': 0.6, 'gamma': 0.3, 'learning_rate': 0.5, 'max_depth': 12, 'reg_alpha': 1, 'reg_lambda': 10, 'seed': 0, 'type': 'xgb'}\n",
      "{'colsample_bytree': 0.8, 'gamma': 0.3, 'learning_rate': 0.001, 'max_depth': 15, 'reg_alpha': 100, 'reg_lambda': 0.1, 'seed': 0, 'type': 'xgb'}\n",
      "{'colsample_bytree': 0.7, 'gamma': 0.2, 'learning_rate': 0.0005, 'max_depth': 15, 'reg_alpha': 1, 'reg_lambda': 1, 'seed': 7, 'type': 'xgb'}\n",
      "{'class_weight': 'balanced', 'criterion': 'gini', 'splitter': 'random', 'type': 'dt'}\n",
      "{'class_weight': 'balanced', 'criterion': 'entropy', 'splitter': 'random', 'type': 'dt'}\n",
      "{'colsample_bytree': 0.9, 'gamma': 0.1, 'learning_rate': 0.0005, 'max_depth': 12, 'reg_alpha': 0.01, 'reg_lambda': 10, 'seed': 7, 'type': 'xgb'}\n",
      "{'criterion': 'gini', 'max_depth': 50, 'type': 'rf'}                              \n",
      " 34%|███▍      | 11/32 [02:00<03:23,  9.69s/trial, best loss: -0.5630154631587793]"
     ]
    },
    {
     "name": "stderr",
     "output_type": "stream",
     "text": [
      "e:\\Documentos\\Proyectos\\Professional\\mlops-student-performance\\.venv\\lib\\site-packages\\sklearn\\base.py:1473: DataConversionWarning: A column-vector y was passed when a 1d array was expected. Please change the shape of y to (n_samples,), for example using ravel().\n",
      "  return fit_method(estimator, *args, **kwargs)\n",
      "\n"
     ]
    },
    {
     "name": "stdout",
     "output_type": "stream",
     "text": [
      "{'C': 0.4620943795734277, 'type': 'svm'}                                          \n",
      " 38%|███▊      | 12/32 [02:21<04:17, 12.85s/trial, best loss: -0.5754317864115805]"
     ]
    },
    {
     "name": "stderr",
     "output_type": "stream",
     "text": [
      "e:\\Documentos\\Proyectos\\Professional\\mlops-student-performance\\.venv\\lib\\site-packages\\sklearn\\utils\\validation.py:1310: DataConversionWarning: A column-vector y was passed when a 1d array was expected. Please change the shape of y to (n_samples, ), for example using ravel().\n",
      "  y = column_or_1d(y, warn=True)\n",
      "\n"
     ]
    },
    {
     "name": "stdout",
     "output_type": "stream",
     "text": [
      "{'class_weight': None, 'criterion': 'entropy', 'splitter': 'best', 'type': 'dt'}  \n",
      "{'criterion': 'entropy', 'max_depth': 35, 'type': 'rf'}                           \n",
      " 44%|████▍     | 14/32 [02:37<03:06, 10.36s/trial, best loss: -0.5754317864115805]"
     ]
    },
    {
     "name": "stderr",
     "output_type": "stream",
     "text": [
      "e:\\Documentos\\Proyectos\\Professional\\mlops-student-performance\\.venv\\lib\\site-packages\\sklearn\\base.py:1473: DataConversionWarning: A column-vector y was passed when a 1d array was expected. Please change the shape of y to (n_samples,), for example using ravel().\n",
      "  return fit_method(estimator, *args, **kwargs)\n",
      "\n"
     ]
    },
    {
     "name": "stdout",
     "output_type": "stream",
     "text": [
      "{'class_weight': None, 'criterion': 'entropy', 'splitter': 'random', 'type': 'dt'}\n",
      "{'C': 1.0744380947972922, 'type': 'svm'}                                          \n",
      " 50%|█████     | 16/32 [03:05<03:08, 11.79s/trial, best loss: -0.5840909069589826]"
     ]
    },
    {
     "name": "stderr",
     "output_type": "stream",
     "text": [
      "e:\\Documentos\\Proyectos\\Professional\\mlops-student-performance\\.venv\\lib\\site-packages\\sklearn\\utils\\validation.py:1310: DataConversionWarning: A column-vector y was passed when a 1d array was expected. Please change the shape of y to (n_samples, ), for example using ravel().\n",
      "  y = column_or_1d(y, warn=True)\n",
      "\n"
     ]
    },
    {
     "name": "stdout",
     "output_type": "stream",
     "text": [
      "{'criterion': 'entropy', 'max_depth': 39, 'type': 'rf'}                           \n",
      " 53%|█████▎    | 17/32 [03:13<02:39, 10.63s/trial, best loss: -0.5840909069589826]"
     ]
    },
    {
     "name": "stderr",
     "output_type": "stream",
     "text": [
      "e:\\Documentos\\Proyectos\\Professional\\mlops-student-performance\\.venv\\lib\\site-packages\\sklearn\\base.py:1473: DataConversionWarning: A column-vector y was passed when a 1d array was expected. Please change the shape of y to (n_samples,), for example using ravel().\n",
      "  return fit_method(estimator, *args, **kwargs)\n",
      "\n"
     ]
    },
    {
     "name": "stdout",
     "output_type": "stream",
     "text": [
      "{'criterion': 'gini', 'max_depth': 88, 'type': 'rf'}                              \n",
      " 56%|█████▋    | 18/32 [03:33<03:06, 13.35s/trial, best loss: -0.5840909069589826]"
     ]
    },
    {
     "name": "stderr",
     "output_type": "stream",
     "text": [
      "e:\\Documentos\\Proyectos\\Professional\\mlops-student-performance\\.venv\\lib\\site-packages\\sklearn\\base.py:1473: DataConversionWarning: A column-vector y was passed when a 1d array was expected. Please change the shape of y to (n_samples,), for example using ravel().\n",
      "  return fit_method(estimator, *args, **kwargs)\n",
      "\n"
     ]
    },
    {
     "name": "stdout",
     "output_type": "stream",
     "text": [
      "{'criterion': 'gini', 'max_depth': 76, 'type': 'rf'}                              \n",
      " 59%|█████▉    | 19/32 [03:53<03:19, 15.34s/trial, best loss: -0.5840909069589826]"
     ]
    },
    {
     "name": "stderr",
     "output_type": "stream",
     "text": [
      "e:\\Documentos\\Proyectos\\Professional\\mlops-student-performance\\.venv\\lib\\site-packages\\sklearn\\base.py:1473: DataConversionWarning: A column-vector y was passed when a 1d array was expected. Please change the shape of y to (n_samples,), for example using ravel().\n",
      "  return fit_method(estimator, *args, **kwargs)\n",
      "\n"
     ]
    },
    {
     "name": "stdout",
     "output_type": "stream",
     "text": [
      "{'criterion': 'entropy', 'max_depth': 50, 'type': 'rf'}                           \n",
      " 62%|██████▎   | 20/32 [04:13<03:23, 16.95s/trial, best loss: -0.5840909069589826]"
     ]
    },
    {
     "name": "stderr",
     "output_type": "stream",
     "text": [
      "e:\\Documentos\\Proyectos\\Professional\\mlops-student-performance\\.venv\\lib\\site-packages\\sklearn\\base.py:1473: DataConversionWarning: A column-vector y was passed when a 1d array was expected. Please change the shape of y to (n_samples,), for example using ravel().\n",
      "  return fit_method(estimator, *args, **kwargs)\n",
      "\n"
     ]
    },
    {
     "name": "stdout",
     "output_type": "stream",
     "text": [
      "{'criterion': 'entropy', 'max_depth': 34, 'type': 'rf'}                           \n",
      " 66%|██████▌   | 21/32 [04:34<03:18, 18.08s/trial, best loss: -0.5840909069589826]"
     ]
    },
    {
     "name": "stderr",
     "output_type": "stream",
     "text": [
      "e:\\Documentos\\Proyectos\\Professional\\mlops-student-performance\\.venv\\lib\\site-packages\\sklearn\\base.py:1473: DataConversionWarning: A column-vector y was passed when a 1d array was expected. Please change the shape of y to (n_samples,), for example using ravel().\n",
      "  return fit_method(estimator, *args, **kwargs)\n",
      "\n"
     ]
    },
    {
     "name": "stdout",
     "output_type": "stream",
     "text": [
      "{'criterion': 'gini', 'max_depth': 50, 'type': 'rf'}                              \n",
      " 69%|██████▉   | 22/32 [04:54<03:07, 18.76s/trial, best loss: -0.5840909069589826]"
     ]
    },
    {
     "name": "stderr",
     "output_type": "stream",
     "text": [
      "e:\\Documentos\\Proyectos\\Professional\\mlops-student-performance\\.venv\\lib\\site-packages\\sklearn\\base.py:1473: DataConversionWarning: A column-vector y was passed when a 1d array was expected. Please change the shape of y to (n_samples,), for example using ravel().\n",
      "  return fit_method(estimator, *args, **kwargs)\n",
      "\n"
     ]
    },
    {
     "name": "stdout",
     "output_type": "stream",
     "text": [
      "{'criterion': 'entropy', 'max_depth': 10, 'type': 'rf'}                           \n",
      " 72%|███████▏  | 23/32 [05:15<02:53, 19.24s/trial, best loss: -0.5840909069589826]"
     ]
    },
    {
     "name": "stderr",
     "output_type": "stream",
     "text": [
      "e:\\Documentos\\Proyectos\\Professional\\mlops-student-performance\\.venv\\lib\\site-packages\\sklearn\\base.py:1473: DataConversionWarning: A column-vector y was passed when a 1d array was expected. Please change the shape of y to (n_samples,), for example using ravel().\n",
      "  return fit_method(estimator, *args, **kwargs)\n",
      "\n"
     ]
    },
    {
     "name": "stdout",
     "output_type": "stream",
     "text": [
      "{'C': 11.078175366022814, 'type': 'svm'}                                          \n",
      " 75%|███████▌  | 24/32 [05:31<02:26, 18.36s/trial, best loss: -0.5902115680866478]"
     ]
    },
    {
     "name": "stderr",
     "output_type": "stream",
     "text": [
      "e:\\Documentos\\Proyectos\\Professional\\mlops-student-performance\\.venv\\lib\\site-packages\\sklearn\\utils\\validation.py:1310: DataConversionWarning: A column-vector y was passed when a 1d array was expected. Please change the shape of y to (n_samples, ), for example using ravel().\n",
      "  y = column_or_1d(y, warn=True)\n",
      "\n"
     ]
    },
    {
     "name": "stdout",
     "output_type": "stream",
     "text": [
      "{'criterion': 'entropy', 'max_depth': 10, 'type': 'rf'}                           \n",
      " 78%|███████▊  | 25/32 [05:39<01:46, 15.26s/trial, best loss: -0.5902115680866478]"
     ]
    },
    {
     "name": "stderr",
     "output_type": "stream",
     "text": [
      "e:\\Documentos\\Proyectos\\Professional\\mlops-student-performance\\.venv\\lib\\site-packages\\sklearn\\base.py:1473: DataConversionWarning: A column-vector y was passed when a 1d array was expected. Please change the shape of y to (n_samples,), for example using ravel().\n",
      "  return fit_method(estimator, *args, **kwargs)\n",
      "\n"
     ]
    },
    {
     "name": "stdout",
     "output_type": "stream",
     "text": [
      "{'criterion': 'entropy', 'max_depth': 10, 'type': 'rf'}                           \n",
      " 81%|████████▏ | 26/32 [05:57<01:35, 15.91s/trial, best loss: -0.5902115680866478]"
     ]
    },
    {
     "name": "stderr",
     "output_type": "stream",
     "text": [
      "e:\\Documentos\\Proyectos\\Professional\\mlops-student-performance\\.venv\\lib\\site-packages\\sklearn\\base.py:1473: DataConversionWarning: A column-vector y was passed when a 1d array was expected. Please change the shape of y to (n_samples,), for example using ravel().\n",
      "  return fit_method(estimator, *args, **kwargs)\n",
      "\n"
     ]
    },
    {
     "name": "stdout",
     "output_type": "stream",
     "text": [
      "{'criterion': 'entropy', 'max_depth': 35, 'type': 'rf'}                           \n",
      " 84%|████████▍ | 27/32 [06:14<01:22, 16.41s/trial, best loss: -0.5902115680866478]"
     ]
    },
    {
     "name": "stderr",
     "output_type": "stream",
     "text": [
      "e:\\Documentos\\Proyectos\\Professional\\mlops-student-performance\\.venv\\lib\\site-packages\\sklearn\\base.py:1473: DataConversionWarning: A column-vector y was passed when a 1d array was expected. Please change the shape of y to (n_samples,), for example using ravel().\n",
      "  return fit_method(estimator, *args, **kwargs)\n",
      "\n"
     ]
    },
    {
     "name": "stdout",
     "output_type": "stream",
     "text": [
      "{'C': 1.846466397855539, 'type': 'svm'}                                           \n",
      " 88%|████████▊ | 28/32 [06:35<01:10, 17.61s/trial, best loss: -0.5902115680866478]"
     ]
    },
    {
     "name": "stderr",
     "output_type": "stream",
     "text": [
      "e:\\Documentos\\Proyectos\\Professional\\mlops-student-performance\\.venv\\lib\\site-packages\\sklearn\\utils\\validation.py:1310: DataConversionWarning: A column-vector y was passed when a 1d array was expected. Please change the shape of y to (n_samples, ), for example using ravel().\n",
      "  y = column_or_1d(y, warn=True)\n",
      "\n"
     ]
    },
    {
     "name": "stdout",
     "output_type": "stream",
     "text": [
      "{'criterion': 'entropy', 'max_depth': 64, 'type': 'rf'}                           \n",
      " 91%|█████████ | 29/32 [06:43<00:44, 14.73s/trial, best loss: -0.5902115680866478]"
     ]
    },
    {
     "name": "stderr",
     "output_type": "stream",
     "text": [
      "e:\\Documentos\\Proyectos\\Professional\\mlops-student-performance\\.venv\\lib\\site-packages\\sklearn\\base.py:1473: DataConversionWarning: A column-vector y was passed when a 1d array was expected. Please change the shape of y to (n_samples,), for example using ravel().\n",
      "  return fit_method(estimator, *args, **kwargs)\n",
      "\n"
     ]
    },
    {
     "name": "stdout",
     "output_type": "stream",
     "text": [
      "{'criterion': 'entropy', 'max_depth': 83, 'type': 'rf'}                           \n",
      " 94%|█████████▍| 30/32 [07:02<00:32, 16.12s/trial, best loss: -0.5902115680866478]"
     ]
    },
    {
     "name": "stderr",
     "output_type": "stream",
     "text": [
      "e:\\Documentos\\Proyectos\\Professional\\mlops-student-performance\\.venv\\lib\\site-packages\\sklearn\\base.py:1473: DataConversionWarning: A column-vector y was passed when a 1d array was expected. Please change the shape of y to (n_samples,), for example using ravel().\n",
      "  return fit_method(estimator, *args, **kwargs)\n",
      "\n"
     ]
    },
    {
     "name": "stdout",
     "output_type": "stream",
     "text": [
      "{'criterion': 'entropy', 'max_depth': 32, 'type': 'rf'}                           \n",
      " 97%|█████████▋| 31/32 [07:22<00:17, 17.40s/trial, best loss: -0.5902115680866478]"
     ]
    },
    {
     "name": "stderr",
     "output_type": "stream",
     "text": [
      "e:\\Documentos\\Proyectos\\Professional\\mlops-student-performance\\.venv\\lib\\site-packages\\sklearn\\base.py:1473: DataConversionWarning: A column-vector y was passed when a 1d array was expected. Please change the shape of y to (n_samples,), for example using ravel().\n",
      "  return fit_method(estimator, *args, **kwargs)\n",
      "\n"
     ]
    },
    {
     "name": "stdout",
     "output_type": "stream",
     "text": [
      "100%|██████████| 32/32 [07:42<00:00, 14.46s/trial, best loss: -0.5902115680866478]\n"
     ]
    }
   ],
   "source": [
    "algo=tpe.suggest\n",
    "\n",
    "with mlflow.start_run(nested=True):\n",
    "    best_result = fmin(\n",
    "      fn=objective, \n",
    "      space=search_space,\n",
    "      algo=algo,\n",
    "      max_evals=32,\n",
    "      trials=Trials())"
   ]
  },
  {
   "cell_type": "code",
   "execution_count": 61,
   "metadata": {},
   "outputs": [
    {
     "name": "stdout",
     "output_type": "stream",
     "text": [
      "{'criterion': 'entropy', 'max_depth': 10, 'type': 'rf'}\n"
     ]
    }
   ],
   "source": [
    "import hyperopt\n",
    "\n",
    "\n",
    "print(hyperopt.space_eval(search_space, best_result))"
   ]
  },
  {
   "cell_type": "code",
   "execution_count": 62,
   "metadata": {},
   "outputs": [],
   "source": [
    "from mlflow.store.artifact.runs_artifact_repo import RunsArtifactRepository\n",
    "from mlflow.entities import ViewType\n",
    "from mlflow.tracking import MlflowClient"
   ]
  },
  {
   "cell_type": "code",
   "execution_count": 63,
   "metadata": {},
   "outputs": [
    {
     "data": {
      "text/plain": [
       "<Run: data=<RunData: metrics={'accuracy': 0.7437325905292479,\n",
       " 'f1_score': 0.5840909069589826,\n",
       " 'roc_auc': 0.9118644330816801}, params={'criterion': 'entropy', 'max_depth': '35'}, tags={'mlflow.log-model.history': '[{\"run_id\": \"d595cb2f563d4f9786c471e9abf881cd\", '\n",
       "                             '\"artifact_path\": \"mlruns\", \"utc_time_created\": '\n",
       "                             '\"2024-07-23 16:25:33.148455\", \"flavors\": '\n",
       "                             '{\"python_function\": {\"model_path\": \"model.pkl\", '\n",
       "                             '\"predict_fn\": \"predict\", \"loader_module\": '\n",
       "                             '\"mlflow.sklearn\", \"python_version\": \"3.9.6\", '\n",
       "                             '\"env\": {\"conda\": \"conda.yaml\", \"virtualenv\": '\n",
       "                             '\"python_env.yaml\"}}, \"sklearn\": '\n",
       "                             '{\"pickled_model\": \"model.pkl\", '\n",
       "                             '\"sklearn_version\": \"1.5.0\", '\n",
       "                             '\"serialization_format\": \"cloudpickle\", \"code\": '\n",
       "                             'null}}, \"model_uuid\": '\n",
       "                             '\"6eba6448faa8419e8fedddc9f4c4c2d5\", '\n",
       "                             '\"mlflow_version\": \"2.14.1\", \"model_size_bytes\": '\n",
       "                             '9610745}]',\n",
       " 'mlflow.parentRunId': '53d380bf024b4f65bdeade00964010d0',\n",
       " 'mlflow.runName': 'able-koi-638',\n",
       " 'mlflow.source.name': 'e:\\\\Documentos\\\\Proyectos\\\\Professional\\\\mlops-student-performance\\\\.venv\\\\lib\\\\site-packages\\\\ipykernel_launcher.py',\n",
       " 'mlflow.source.type': 'LOCAL',\n",
       " 'mlflow.user': 'Almudena',\n",
       " 'model': 'rf'}>, info=<RunInfo: artifact_uri='s3://mlflow-artifact-student-performance/1/d595cb2f563d4f9786c471e9abf881cd/artifacts', end_time=1721751953376, experiment_id='1', lifecycle_stage='active', run_id='d595cb2f563d4f9786c471e9abf881cd', run_name='able-koi-638', run_uuid='d595cb2f563d4f9786c471e9abf881cd', start_time=1721751932834, status='FINISHED', user_id='Almudena'>, inputs=<RunInputs: dataset_inputs=[]>>"
      ]
     },
     "execution_count": 63,
     "metadata": {},
     "output_type": "execute_result"
    }
   ],
   "source": [
    "client = MlflowClient(tracking_uri=\"http://127.0.0.1:5000\")\n",
    "run = client.search_runs(\n",
    "  experiment_ids=experiment_id,\n",
    "  run_view_type=ViewType.ACTIVE_ONLY,\n",
    "  order_by=[\"metrics.accuracy DESC\"]\n",
    ")[0]\n",
    "run"
   ]
  },
  {
   "cell_type": "code",
   "execution_count": 64,
   "metadata": {},
   "outputs": [
    {
     "name": "stderr",
     "output_type": "stream",
     "text": [
      "Registered model 'student-performance' already exists. Creating a new version of this model...\n",
      "2024/07/23 18:30:38 INFO mlflow.store.model_registry.abstract_store: Waiting up to 300 seconds for model version to finish creation. Model name: student-performance, version 2\n",
      "Created version '2' of model 'student-performance'.\n"
     ]
    },
    {
     "data": {
      "text/plain": [
       "<ModelVersion: aliases=[], creation_timestamp=1721752238749, current_stage='None', description='', last_updated_timestamp=1721752238749, name='student-performance', run_id='d595cb2f563d4f9786c471e9abf881cd', run_link='', source='s3://mlflow-artifact-student-performance/1/d595cb2f563d4f9786c471e9abf881cd/artifacts/models', status='READY', status_message='', tags={}, user_id='', version='2'>"
      ]
     },
     "execution_count": 64,
     "metadata": {},
     "output_type": "execute_result"
    }
   ],
   "source": [
    "run_id = run.info.run_id\n",
    "\n",
    "mlflow.register_model(\n",
    "    model_uri=f\"runs:/{run_id}/models\",\n",
    "    name=experiment_name\n",
    ")"
   ]
  },
  {
   "cell_type": "code",
   "execution_count": 65,
   "metadata": {},
   "outputs": [
    {
     "data": {
      "text/plain": [
       "'2'"
      ]
     },
     "execution_count": 65,
     "metadata": {},
     "output_type": "execute_result"
    }
   ],
   "source": [
    "model_uri = f\"runs:/{run_id}/model\"\n",
    "\n",
    "model_src = RunsArtifactRepository.get_underlying_uri(model_uri)\n",
    "filter_string = \"run_id='{}'\".format(run_id)\n",
    "results = client.search_model_versions(filter_string)\n",
    "model_version = results[0].version\n",
    "model_version"
   ]
  },
  {
   "cell_type": "code",
   "execution_count": 66,
   "metadata": {},
   "outputs": [
    {
     "name": "stderr",
     "output_type": "stream",
     "text": [
      "C:\\Users\\Almudena\\AppData\\Local\\Temp\\ipykernel_25864\\3224397365.py:2: FutureWarning: ``mlflow.tracking.client.MlflowClient.transition_model_version_stage`` is deprecated since 2.9.0. Model registry stages will be removed in a future major release. To learn more about the deprecation of model registry stages, see our migration guide here: https://mlflow.org/docs/latest/model-registry.html#migrating-from-stages\n",
      "  client.transition_model_version_stage(\n"
     ]
    },
    {
     "data": {
      "text/plain": [
       "<ModelVersion: aliases=[], creation_timestamp=1721752238749, current_stage='Production', description='', last_updated_timestamp=1721752238835, name='student-performance', run_id='d595cb2f563d4f9786c471e9abf881cd', run_link='', source='s3://mlflow-artifact-student-performance/1/d595cb2f563d4f9786c471e9abf881cd/artifacts/models', status='READY', status_message='', tags={}, user_id='', version='2'>"
      ]
     },
     "execution_count": 66,
     "metadata": {},
     "output_type": "execute_result"
    }
   ],
   "source": [
    "new_stage = \"Production\"\n",
    "client.transition_model_version_stage(\n",
    "    name=experiment_name,\n",
    "    version=model_version,\n",
    "    stage=new_stage,\n",
    "    archive_existing_versions=False\n",
    ")"
   ]
  }
 ],
 "metadata": {
  "kernelspec": {
   "display_name": "Python 3",
   "language": "python",
   "name": "python3"
  },
  "language_info": {
   "codemirror_mode": {
    "name": "ipython",
    "version": 3
   },
   "file_extension": ".py",
   "mimetype": "text/x-python",
   "name": "python",
   "nbconvert_exporter": "python",
   "pygments_lexer": "ipython3",
   "version": "3.9.6"
  }
 },
 "nbformat": 4,
 "nbformat_minor": 2
}
